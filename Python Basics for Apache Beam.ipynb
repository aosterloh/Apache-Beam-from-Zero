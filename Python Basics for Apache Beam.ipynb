{
 "cells": [
  {
   "cell_type": "markdown",
   "metadata": {},
   "source": [
    "# Lambda Functions"
   ]
  },
  {
   "cell_type": "markdown",
   "metadata": {},
   "source": [
    "lambda function are great to pass data as PCollections from one stage to the next and perform small tranforms that you can write as one line. \n",
    "\n",
    "A python function is usually for reuse like this:"
   ]
  },
  {
   "cell_type": "code",
   "execution_count": 1,
   "metadata": {},
   "outputs": [
    {
     "data": {
      "text/plain": [
       "57"
      ]
     },
     "execution_count": 1,
     "metadata": {},
     "output_type": "execute_result"
    }
   ],
   "source": [
    "def add(x,y):\n",
    "    return x+y\n",
    "\n",
    "add(23,34)"
   ]
  },
  {
   "cell_type": "markdown",
   "metadata": {},
   "source": [
    "if you just use a fuction once, there is a simpler method that you can specify as a one liner lambda functions are called anonymous functions"
   ]
  },
  {
   "cell_type": "code",
   "execution_count": 2,
   "metadata": {},
   "outputs": [
    {
     "data": {
      "text/plain": [
       "57"
      ]
     },
     "execution_count": 2,
     "metadata": {},
     "output_type": "execute_result"
    }
   ],
   "source": [
    "add = lambda x, y : x + y  \n",
    "\n",
    "add(23,34)"
   ]
  },
  {
   "cell_type": "markdown",
   "metadata": {},
   "source": [
    "### In the context of Apache Beam, let's use a lambda function there\n",
    "Let's import Apache Beam and use a Map function. "
   ]
  },
  {
   "cell_type": "code",
   "execution_count": 3,
   "metadata": {},
   "outputs": [],
   "source": [
    "import apache_beam as beam"
   ]
  },
  {
   "cell_type": "code",
   "execution_count": 4,
   "metadata": {},
   "outputs": [
    {
     "data": {
      "text/plain": [
       "[9, 24, 36]"
      ]
     },
     "execution_count": 4,
     "metadata": {},
     "output_type": "execute_result"
    }
   ],
   "source": [
    "[3, 8, 12] | beam.Map(lambda x : 3*x)"
   ]
  },
  {
   "cell_type": "code",
   "execution_count": 5,
   "metadata": {},
   "outputs": [
    {
     "data": {
      "text/plain": [
       "[5, 6, 7]"
      ]
     },
     "execution_count": 5,
     "metadata": {},
     "output_type": "execute_result"
    }
   ],
   "source": [
    "['test1', 'test11', 'test111'] | beam.Map(lambda x : len(x))"
   ]
  },
  {
   "cell_type": "code",
   "execution_count": 6,
   "metadata": {},
   "outputs": [
    {
     "data": {
      "text/plain": [
       "[('Jan', [3, 8]), ('Feb', [12])]"
      ]
     },
     "execution_count": 6,
     "metadata": {},
     "output_type": "execute_result"
    }
   ],
   "source": [
    "[('Jan',3), ('Jan',8), ('Feb',12)] | beam.GroupByKey() "
   ]
  },
  {
   "cell_type": "code",
   "execution_count": 7,
   "metadata": {},
   "outputs": [
    {
     "data": {
      "text/plain": [
       "[('Jan', 2), ('Feb', 1)]"
      ]
     },
     "execution_count": 7,
     "metadata": {},
     "output_type": "execute_result"
    }
   ],
   "source": [
    "[('Jan',3), ('Jan',8), ('Feb',12)] | beam.GroupByKey() | beam.Map(lambda (mon,days) : (mon,len(days)))"
   ]
  },
  {
   "cell_type": "markdown",
   "metadata": {},
   "source": [
    "In the Beam example we are reading weather data from csv (later from BigQuery table) and we are interested in 2 columns. The 2 columns we are interested in are month (integer) and tornado (boolean), stating if a tornado appeared in that month, like this\n",
    "```\n",
    "(10, false)\n",
    "(8, false) \n",
    "(6, true)\n",
    "(8, true)\n",
    "```"
   ]
  },
  {
   "cell_type": "code",
   "execution_count": 8,
   "metadata": {},
   "outputs": [
    {
     "data": {
      "text/plain": [
       "[(8, ['false', 'true']), (10, ['false']), (6, ['true'])]"
      ]
     },
     "execution_count": 8,
     "metadata": {},
     "output_type": "execute_result"
    }
   ],
   "source": [
    "[(10,'false'), (8,'false'), (6,'true'), (8,'true')] |  beam.GroupByKey() "
   ]
  },
  {
   "cell_type": "code",
   "execution_count": 10,
   "metadata": {},
   "outputs": [
    {
     "name": "stdout",
     "output_type": "stream",
     "text": [
      "<_ChainedPTransform(PTransform) label=[FlatMap(<lambda at <ipython-input-10-ee7531fb98a4>:8>)|CombinePerKey(sum)|Map(<lambda at <ipython-input-10-ee7531fb98a4>:8>)]>\n",
      "<_ChainedPTransform(PTransform) label=[FlatMap(<lambda at <ipython-input-10-ee7531fb98a4>:8>)|CombinePerKey(sum)|Map(<lambda at <ipython-input-10-ee7531fb98a4>:8>)]>\n",
      "<_ChainedPTransform(PTransform) label=[FlatMap(<lambda at <ipython-input-10-ee7531fb98a4>:8>)|CombinePerKey(sum)|Map(<lambda at <ipython-input-10-ee7531fb98a4>:8>)]>\n",
      "<_ChainedPTransform(PTransform) label=[FlatMap(<lambda at <ipython-input-10-ee7531fb98a4>:8>)|CombinePerKey(sum)|Map(<lambda at <ipython-input-10-ee7531fb98a4>:8>)]>\n",
      "<_ChainedPTransform(PTransform) label=[FlatMap(<lambda at <ipython-input-10-ee7531fb98a4>:8>)|CombinePerKey(sum)|Map(<lambda at <ipython-input-10-ee7531fb98a4>:8>)]>\n",
      "<_ChainedPTransform(PTransform) label=[FlatMap(<lambda at <ipython-input-10-ee7531fb98a4>:8>)|CombinePerKey(sum)|Map(<lambda at <ipython-input-10-ee7531fb98a4>:8>)]>\n",
      "<_ChainedPTransform(PTransform) label=[FlatMap(<lambda at <ipython-input-10-ee7531fb98a4>:8>)|CombinePerKey(sum)|Map(<lambda at <ipython-input-10-ee7531fb98a4>:8>)]>\n",
      "<_ChainedPTransform(PTransform) label=[FlatMap(<lambda at <ipython-input-10-ee7531fb98a4>:8>)|CombinePerKey(sum)|Map(<lambda at <ipython-input-10-ee7531fb98a4>:8>)]>\n",
      "<_ChainedPTransform(PTransform) label=[FlatMap(<lambda at <ipython-input-10-ee7531fb98a4>:8>)|CombinePerKey(sum)|Map(<lambda at <ipython-input-10-ee7531fb98a4>:8>)]>\n",
      "<_ChainedPTransform(PTransform) label=[FlatMap(<lambda at <ipython-input-10-ee7531fb98a4>:8>)|CombinePerKey(sum)|Map(<lambda at <ipython-input-10-ee7531fb98a4>:8>)]>\n",
      "<_ChainedPTransform(PTransform) label=[FlatMap(<lambda at <ipython-input-10-ee7531fb98a4>:8>)|CombinePerKey(sum)|Map(<lambda at <ipython-input-10-ee7531fb98a4>:8>)]>\n"
     ]
    }
   ],
   "source": [
    "import apache_beam as beam\n",
    "import csv\n",
    "with open('data/gsod_small.csv') as csv_file:\n",
    "    csv_reader = csv.reader(csv_file)\n",
    "    line_count = 0\n",
    "    for row in csv_reader:\n",
    "        line_count +=1\n",
    "        output = beam.FlatMap(lambda row: [(int(row['month']), 1)] if row['tornado'] else []) \\\n",
    "        | beam.CombinePerKey(sum) \\\n",
    "        | beam.Map(lambda k_v: {'month': k_v[0], 'tornado_count': k_v[1]}) \\\n",
    " #       | beam.io.WriteToText('output.txt')    \n",
    "        print(output)\n",
    "        type(output)"
   ]
  },
  {
   "cell_type": "markdown",
   "metadata": {},
   "source": [
    "# Lists"
   ]
  },
  {
   "cell_type": "code",
   "execution_count": null,
   "metadata": {},
   "outputs": [],
   "source": [
    "shopping_list = []"
   ]
  },
  {
   "cell_type": "code",
   "execution_count": null,
   "metadata": {},
   "outputs": [],
   "source": [
    "shopping_list.append(\"milk\")\n",
    "shopping_list.append(\"cheese\")\n",
    "shopping_list.append(\"bread\")"
   ]
  },
  {
   "cell_type": "code",
   "execution_count": null,
   "metadata": {},
   "outputs": [],
   "source": [
    "shopping_list = [ \"milk\", \"cheese\", \"bread\" ]"
   ]
  },
  {
   "cell_type": "code",
   "execution_count": null,
   "metadata": {},
   "outputs": [],
   "source": [
    "print(shopping_list)"
   ]
  },
  {
   "cell_type": "code",
   "execution_count": null,
   "metadata": {},
   "outputs": [],
   "source": [
    "shopping_list.remove(\"milk\")"
   ]
  },
  {
   "cell_type": "code",
   "execution_count": null,
   "metadata": {},
   "outputs": [],
   "source": [
    "for item in shopping_list:\n",
    "    print(item)"
   ]
  },
  {
   "cell_type": "code",
   "execution_count": null,
   "metadata": {},
   "outputs": [],
   "source": [
    "if \"milk\" in shopping_list:\n",
    "    print(\"Delicious!\")\n",
    "\n",
    "if \"eggs\" not in shopping_list:\n",
    "    print(\"Well we can't have that!\")\n",
    "    shopping_list.append(\"eggs\")"
   ]
  },
  {
   "cell_type": "code",
   "execution_count": null,
   "metadata": {},
   "outputs": [],
   "source": [
    "shopping_list.append(\"milk\")"
   ]
  },
  {
   "cell_type": "code",
   "execution_count": null,
   "metadata": {},
   "outputs": [],
   "source": [
    "if \"milk\" in shopping_list:\n",
    "    print(\"Delicious!\")\n",
    "\n",
    "if \"eggs\" not in shopping_list:\n",
    "    print(\"Well we can't have that!\")\n",
    "    shopping_list.append(\"eggs\")"
   ]
  },
  {
   "cell_type": "markdown",
   "metadata": {},
   "source": [
    "# Dictionaries"
   ]
  },
  {
   "cell_type": "code",
   "execution_count": null,
   "metadata": {},
   "outputs": [],
   "source": []
  }
 ],
 "metadata": {
  "kernelspec": {
   "display_name": "Python 2",
   "language": "python",
   "name": "python2"
  },
  "language_info": {
   "codemirror_mode": {
    "name": "ipython",
    "version": 2
   },
   "file_extension": ".py",
   "mimetype": "text/x-python",
   "name": "python",
   "nbconvert_exporter": "python",
   "pygments_lexer": "ipython2",
   "version": "2.7.13"
  }
 },
 "nbformat": 4,
 "nbformat_minor": 2
}
